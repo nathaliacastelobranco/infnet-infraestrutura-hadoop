{
  "nbformat": 4,
  "nbformat_minor": 0,
  "metadata": {
    "colab": {
      "provenance": [],
      "authorship_tag": "ABX9TyNgFfBnf9334K5iZL8rRh7t",
      "include_colab_link": true
    },
    "kernelspec": {
      "name": "python3",
      "display_name": "Python 3"
    },
    "language_info": {
      "name": "python"
    }
  },
  "cells": [
    {
      "cell_type": "markdown",
      "metadata": {
        "id": "view-in-github",
        "colab_type": "text"
      },
      "source": [
        "<a href=\"https://colab.research.google.com/github/nathaliacastelobranco/infnet-infraestrutura-hadoop/blob/main/Transformacao_CAGED.ipynb\" target=\"_parent\"><img src=\"https://colab.research.google.com/assets/colab-badge.svg\" alt=\"Open In Colab\"/></a>"
      ]
    },
    {
      "cell_type": "markdown",
      "source": [
        "# Transformação para particionamento (PySpark)\n"
      ],
      "metadata": {
        "id": "5Et7THvs8QrG"
      }
    },
    {
      "cell_type": "code",
      "source": [
        "!pip install gcsfs pyarrow fastparquet -q"
      ],
      "metadata": {
        "id": "k-s2X3o1cqLB"
      },
      "execution_count": 3,
      "outputs": []
    },
    {
      "cell_type": "code",
      "source": [
        "!apt-get install openjdk-11-jdk-headless -qq > /dev/null\n",
        "!wget -q https://repo1.maven.org/maven2/com/google/cloud/bigdataoss/gcs-connector/hadoop3-2.2.5/gcs-connector-hadoop3-2.2.5-shaded.jar -O gcs-connector.jar"
      ],
      "metadata": {
        "id": "w1VKTEKX9_5U"
      },
      "execution_count": 4,
      "outputs": []
    },
    {
      "cell_type": "code",
      "execution_count": 21,
      "metadata": {
        "id": "O7ZNg0sbcAAY"
      },
      "outputs": [],
      "source": [
        "# ==============================================\n",
        "# 1. Dependências, autenticação e configurações\n",
        "# ==============================================\n",
        "import os\n",
        "import shutil\n",
        "import pyarrow as pa\n",
        "import pyarrow.parquet as pq\n",
        "from google.cloud import storage\n",
        "from pyspark.sql import SparkSession\n",
        "from pyspark.sql.functions import substring, when, col, lit\n",
        "\n",
        "from google.colab import auth\n",
        "auth.authenticate_user()\n",
        "\n",
        "anos = [2020, 2021, 2022, 2023, 2024, 2025]"
      ]
    },
    {
      "cell_type": "code",
      "source": [
        "# ========================================\n",
        "# 2. Sessão Spark e Exploração dos dados\n",
        "# ========================================\n",
        "\n",
        "spark = SparkSession.builder \\\n",
        "    .appName(\"TransformacaoCAGED\") \\\n",
        "    .config(\"spark.jars\", \"gcs-connector.jar\") \\\n",
        "    .config(\"spark.hadoop.fs.gs.impl\", \"com.google.cloud.hadoop.fs.gcs.GoogleHadoopFileSystem\") \\\n",
        "    .getOrCreate()"
      ],
      "metadata": {
        "id": "_HEZhUQe-LmO"
      },
      "execution_count": 6,
      "outputs": []
    },
    {
      "cell_type": "code",
      "source": [
        "df_mov_teste = spark.read.parquet(\"gs://bucket_caged/caged/2020/MOV/2020MOV.parquet\")"
      ],
      "metadata": {
        "id": "yyMumCgN9Mqp"
      },
      "execution_count": 11,
      "outputs": []
    },
    {
      "cell_type": "code",
      "source": [
        "df_mov_teste.show(5, truncate=False)"
      ],
      "metadata": {
        "colab": {
          "base_uri": "https://localhost:8080/"
        },
        "id": "loKMIXXP_fBA",
        "outputId": "439a7e99-208d-46ff-db16-71feb1863347"
      },
      "execution_count": 12,
      "outputs": [
        {
          "output_type": "stream",
          "name": "stdout",
          "text": [
            "+---------------+-------+---+----------+-------+---------+-------------------+-----------------+---------+-----------------+-----+----------------+--------+----+--------------+-------------------+------------------+------------------+-------------------+--------------+--------+-----------+-----------------+--------------------+---------------+----------------------+----------------------+-----------------+\n",
            "|competÃªnciamov|regiÃ£o|uf |municÃ­pio|seÃ§Ã£o|subclasse|saldomovimentaÃ§Ã£o|cbo2002ocupaÃ§Ã£o|categoria|graudeinstruÃ§Ã£o|idade|horascontratuais|raÃ§acor|sexo|tipoempregador|tipoestabelecimento|tipomovimentaÃ§Ã£o|tipodedeficiÃªncia|indtrabintermitente|indtrabparcial|salÃ¡rio|tamestabjan|indicadoraprendiz|origemdainformaÃ§Ã£o|competÃªnciadec|indicadordeforadoprazo|unidadesalÃ¡riocÃ³digo|valorsalÃ¡riofixo|\n",
            "+---------------+-------+---+----------+-------+---------+-------------------+-----------------+---------+-----------------+-----+----------------+--------+----+--------------+-------------------+------------------+------------------+-------------------+--------------+--------+-----------+-----------------+--------------------+---------------+----------------------+----------------------+-----------------+\n",
            "|202001         |3      |35 |355030    |N      |7820500  |-1                 |763125           |106      |7                |26   |44,00           |3       |1   |0             |1                  |43                |0                 |0                  |0             |1383,72 |7          |0                |1                   |202001         |0                     |5                     |1383,72          |\n",
            "|202001         |2      |25 |250750    |G      |4782201  |-1                 |521110           |101      |7                |34   |44,00           |6       |3   |0             |1                  |43                |0                 |0                  |0             |1155,00 |6          |0                |1                   |202001         |0                     |5                     |1155,00          |\n",
            "|202001         |3      |35 |355030    |G      |4781400  |1                  |421125           |101      |7                |25   |44,00           |1       |3   |0             |1                  |20                |0                 |0                  |0             |1461,26 |4          |0                |1                   |202001         |0                     |5                     |1461,26          |\n",
            "|202001         |3      |35 |355030    |F      |4330404  |1                  |716610           |101      |7                |44   |44,00           |3       |1   |0             |1                  |20                |0                 |0                  |0             |1841,40 |7          |0                |1                   |202001         |0                     |1                     |8,37             |\n",
            "|202001         |3      |35 |355030    |N      |8011101  |-1                 |517330           |999      |7                |43   |44,00           |3       |1   |0             |1                  |31                |0                 |0                  |0             |1597,71 |10         |0                |2                   |202001         |0                     |99                    |NULL             |\n",
            "+---------------+-------+---+----------+-------+---------+-------------------+-----------------+---------+-----------------+-----+----------------+--------+----+--------------+-------------------+------------------+------------------+-------------------+--------------+--------+-----------+-----------------+--------------------+---------------+----------------------+----------------------+-----------------+\n",
            "only showing top 5 rows\n",
            "\n"
          ]
        }
      ]
    },
    {
      "cell_type": "code",
      "source": [
        "df_mov_teste.printSchema()"
      ],
      "metadata": {
        "colab": {
          "base_uri": "https://localhost:8080/"
        },
        "id": "epMVIpYLoMWQ",
        "outputId": "8171e7b9-7771-4cb2-c581-8e6ded83d6d2"
      },
      "execution_count": 15,
      "outputs": [
        {
          "output_type": "stream",
          "name": "stdout",
          "text": [
            "root\n",
            " |-- competÃªnciamov: long (nullable = true)\n",
            " |-- regiÃ£o: long (nullable = true)\n",
            " |-- uf: long (nullable = true)\n",
            " |-- municÃ­pio: long (nullable = true)\n",
            " |-- seÃ§Ã£o: string (nullable = true)\n",
            " |-- subclasse: long (nullable = true)\n",
            " |-- saldomovimentaÃ§Ã£o: long (nullable = true)\n",
            " |-- cbo2002ocupaÃ§Ã£o: long (nullable = true)\n",
            " |-- categoria: long (nullable = true)\n",
            " |-- graudeinstruÃ§Ã£o: long (nullable = true)\n",
            " |-- idade: long (nullable = true)\n",
            " |-- horascontratuais: string (nullable = true)\n",
            " |-- raÃ§acor: long (nullable = true)\n",
            " |-- sexo: long (nullable = true)\n",
            " |-- tipoempregador: long (nullable = true)\n",
            " |-- tipoestabelecimento: long (nullable = true)\n",
            " |-- tipomovimentaÃ§Ã£o: long (nullable = true)\n",
            " |-- tipodedeficiÃªncia: long (nullable = true)\n",
            " |-- indtrabintermitente: long (nullable = true)\n",
            " |-- indtrabparcial: long (nullable = true)\n",
            " |-- salÃ¡rio: string (nullable = true)\n",
            " |-- tamestabjan: long (nullable = true)\n",
            " |-- indicadoraprendiz: long (nullable = true)\n",
            " |-- origemdainformaÃ§Ã£o: long (nullable = true)\n",
            " |-- competÃªnciadec: long (nullable = true)\n",
            " |-- indicadordeforadoprazo: long (nullable = true)\n",
            " |-- unidadesalÃ¡riocÃ³digo: long (nullable = true)\n",
            " |-- valorsalÃ¡riofixo: string (nullable = true)\n",
            "\n"
          ]
        }
      ]
    },
    {
      "cell_type": "code",
      "source": [
        "df_exc_teste = spark.read.parquet(\"gs://bucket_caged/caged/2020/EXC/2020EXC.parquet\")"
      ],
      "metadata": {
        "id": "fCBSFbHxnqgw"
      },
      "execution_count": 13,
      "outputs": []
    },
    {
      "cell_type": "code",
      "source": [
        "df_exc_teste.show(5, truncate=False)"
      ],
      "metadata": {
        "colab": {
          "base_uri": "https://localhost:8080/"
        },
        "id": "KtUfiiELnyN7",
        "outputId": "e4c00d62-d2f4-463f-acf5-e2105621e049"
      },
      "execution_count": 14,
      "outputs": [
        {
          "output_type": "stream",
          "name": "stdout",
          "text": [
            "+---------------+-------+---+----------+-------+---------+-------------------+-----------------+---------+-----------------+-----+----------------+--------+----+--------------+-------------------+------------------+------------------+-------------------+--------------+--------+-----------+-----------------+--------------------+---------------+---------------+--------------------+----------------------+----------------------+-----------------+\n",
            "|competÃªnciamov|regiÃ£o|uf |municÃ­pio|seÃ§Ã£o|subclasse|saldomovimentaÃ§Ã£o|cbo2002ocupaÃ§Ã£o|categoria|graudeinstruÃ§Ã£o|idade|horascontratuais|raÃ§acor|sexo|tipoempregador|tipoestabelecimento|tipomovimentaÃ§Ã£o|tipodedeficiÃªncia|indtrabintermitente|indtrabparcial|salÃ¡rio|tamestabjan|indicadoraprendiz|origemdainformaÃ§Ã£o|competÃªnciadec|competÃªnciaexc|indicadordeexclusÃ£o|indicadordeforadoprazo|unidadesalÃ¡riocÃ³digo|valorsalÃ¡riofixo|\n",
            "+---------------+-------+---+----------+-------+---------+-------------------+-----------------+---------+-----------------+-----+----------------+--------+----+--------------+-------------------+------------------+------------------+-------------------+--------------+--------+-----------+-----------------+--------------------+---------------+---------------+--------------------+----------------------+----------------------+-----------------+\n",
            "|202001         |3      |35 |350750    |N      |7820500  |1                  |414110           |106      |7                |21   |44,00           |1       |1   |0             |1                  |20                |0                 |0                  |0             |1163,80 |7          |0                |1                   |202001         |202004         |1                   |0                     |99                    |NULL             |\n",
            "|202001         |3      |35 |354870    |I      |5620101  |1                  |513505           |101      |7                |28   |44,00           |3       |1   |0             |1                  |20                |0                 |0                  |0             |1309,32 |6          |0                |1                   |202001         |202004         |1                   |0                     |99                    |NULL             |\n",
            "|202001         |2      |29 |291005    |H      |4930202  |-1                 |992205           |101      |7                |23   |44,00           |6       |1   |0             |1                  |31                |0                 |0                  |0             |1996,90 |3          |0                |1                   |202001         |202004         |1                   |0                     |5                     |1996,90          |\n",
            "|202001         |3      |35 |350750    |N      |7820500  |1                  |414110           |106      |7                |19   |44,00           |1       |3   |0             |1                  |20                |0                 |0                  |0             |1163,80 |7          |0                |1                   |202001         |202004         |1                   |0                     |99                    |NULL             |\n",
            "|202001         |2      |29 |293270    |F      |4120400  |1                  |717020           |101      |2                |37   |44,00           |3       |1   |0             |4                  |20                |0                 |0                  |0             |1045,00 |5          |0                |1                   |202001         |202004         |1                   |0                     |99                    |NULL             |\n",
            "+---------------+-------+---+----------+-------+---------+-------------------+-----------------+---------+-----------------+-----+----------------+--------+----+--------------+-------------------+------------------+------------------+-------------------+--------------+--------+-----------+-----------------+--------------------+---------------+---------------+--------------------+----------------------+----------------------+-----------------+\n",
            "only showing top 5 rows\n",
            "\n"
          ]
        }
      ]
    },
    {
      "cell_type": "code",
      "source": [
        "df_exc_teste.printSchema()"
      ],
      "metadata": {
        "colab": {
          "base_uri": "https://localhost:8080/"
        },
        "id": "RvwijTpH_u3F",
        "outputId": "9892da76-a1a4-49e2-cab3-5efc488b4d69"
      },
      "execution_count": 16,
      "outputs": [
        {
          "output_type": "stream",
          "name": "stdout",
          "text": [
            "root\n",
            " |-- competÃªnciamov: long (nullable = true)\n",
            " |-- regiÃ£o: long (nullable = true)\n",
            " |-- uf: long (nullable = true)\n",
            " |-- municÃ­pio: long (nullable = true)\n",
            " |-- seÃ§Ã£o: string (nullable = true)\n",
            " |-- subclasse: long (nullable = true)\n",
            " |-- saldomovimentaÃ§Ã£o: long (nullable = true)\n",
            " |-- cbo2002ocupaÃ§Ã£o: long (nullable = true)\n",
            " |-- categoria: long (nullable = true)\n",
            " |-- graudeinstruÃ§Ã£o: long (nullable = true)\n",
            " |-- idade: long (nullable = true)\n",
            " |-- horascontratuais: string (nullable = true)\n",
            " |-- raÃ§acor: long (nullable = true)\n",
            " |-- sexo: long (nullable = true)\n",
            " |-- tipoempregador: long (nullable = true)\n",
            " |-- tipoestabelecimento: long (nullable = true)\n",
            " |-- tipomovimentaÃ§Ã£o: long (nullable = true)\n",
            " |-- tipodedeficiÃªncia: long (nullable = true)\n",
            " |-- indtrabintermitente: long (nullable = true)\n",
            " |-- indtrabparcial: long (nullable = true)\n",
            " |-- salÃ¡rio: string (nullable = true)\n",
            " |-- tamestabjan: long (nullable = true)\n",
            " |-- indicadoraprendiz: long (nullable = true)\n",
            " |-- origemdainformaÃ§Ã£o: long (nullable = true)\n",
            " |-- competÃªnciadec: long (nullable = true)\n",
            " |-- competÃªnciaexc: long (nullable = true)\n",
            " |-- indicadordeexclusÃ£o: long (nullable = true)\n",
            " |-- indicadordeforadoprazo: long (nullable = true)\n",
            " |-- unidadesalÃ¡riocÃ³digo: long (nullable = true)\n",
            " |-- valorsalÃ¡riofixo: string (nullable = true)\n",
            "\n"
          ]
        }
      ]
    },
    {
      "cell_type": "code",
      "source": [
        "df_for_teste = spark.read.parquet(\"gs://bucket_caged/caged/2020/FOR/2020FOR.parquet\")"
      ],
      "metadata": {
        "id": "VZv388yLoVZq"
      },
      "execution_count": 17,
      "outputs": []
    },
    {
      "cell_type": "code",
      "source": [
        "df_for_teste.show(5, truncate=False)"
      ],
      "metadata": {
        "colab": {
          "base_uri": "https://localhost:8080/"
        },
        "id": "gzT9vxh4oX62",
        "outputId": "81d87107-599a-4dca-ed44-0901fdba6090"
      },
      "execution_count": 18,
      "outputs": [
        {
          "output_type": "stream",
          "name": "stdout",
          "text": [
            "+---------------+-------+---+----------+-------+---------+-------------------+-----------------+---------+-----------------+-----+----------------+--------+----+--------------+-------------------+------------------+------------------+-------------------+--------------+--------+-----------+-----------------+--------------------+---------------+----------------------+----------------------+-----------------+\n",
            "|competÃªnciamov|regiÃ£o|uf |municÃ­pio|seÃ§Ã£o|subclasse|saldomovimentaÃ§Ã£o|cbo2002ocupaÃ§Ã£o|categoria|graudeinstruÃ§Ã£o|idade|horascontratuais|raÃ§acor|sexo|tipoempregador|tipoestabelecimento|tipomovimentaÃ§Ã£o|tipodedeficiÃªncia|indtrabintermitente|indtrabparcial|salÃ¡rio|tamestabjan|indicadoraprendiz|origemdainformaÃ§Ã£o|competÃªnciadec|indicadordeforadoprazo|unidadesalÃ¡riocÃ³digo|valorsalÃ¡riofixo|\n",
            "+---------------+-------+---+----------+-------+---------+-------------------+-----------------+---------+-----------------+-----+----------------+--------+----+--------------+-------------------+------------------+------------------+-------------------+--------------+--------+-----------+-----------------+--------------------+---------------+----------------------+----------------------+-----------------+\n",
            "|202001         |2      |29 |292740    |H      |4930202  |-1                 |511210           |999      |7                |24   |44,00           |6       |1   |0             |1                  |31                |0                 |0                  |0             |,00     |9          |0                |2                   |202002         |1                     |99                    |NULL             |\n",
            "|202001         |3      |35 |353440    |N      |8121400  |-1                 |517410           |999      |7                |37   |44,00           |3       |1   |0             |1                  |40                |0                 |0                  |0             |,00     |6          |0                |2                   |202002         |1                     |99                    |NULL             |\n",
            "|202001         |3      |33 |330240    |I      |5611201  |1                  |521140           |101      |7                |27   |44,00           |3       |1   |0             |1                  |20                |0                 |0                  |0             |1190,00 |5          |0                |1                   |202002         |1                     |5                     |1190,00          |\n",
            "|202001         |4      |41 |410620    |A      |161003   |1                  |623110           |101      |5                |22   |44,00           |6       |1   |0             |1                  |10                |0                 |0                  |0             |1383,80 |5          |0                |1                   |202002         |1                     |5                     |1383,80          |\n",
            "|202001         |2      |25 |251380    |A      |133410   |-1                 |621005           |111      |2                |38   |44,00           |1       |3   |0             |1                  |40                |0                 |1                  |9             |998,80  |7          |0                |1                   |202002         |1                     |1                     |4,54             |\n",
            "+---------------+-------+---+----------+-------+---------+-------------------+-----------------+---------+-----------------+-----+----------------+--------+----+--------------+-------------------+------------------+------------------+-------------------+--------------+--------+-----------+-----------------+--------------------+---------------+----------------------+----------------------+-----------------+\n",
            "only showing top 5 rows\n",
            "\n"
          ]
        }
      ]
    },
    {
      "cell_type": "code",
      "source": [
        "df_for_teste.printSchema()"
      ],
      "metadata": {
        "colab": {
          "base_uri": "https://localhost:8080/"
        },
        "id": "ywSK48t-ob1W",
        "outputId": "e0d17f28-1c85-4804-9358-b74c1a6a0305"
      },
      "execution_count": 19,
      "outputs": [
        {
          "output_type": "stream",
          "name": "stdout",
          "text": [
            "root\n",
            " |-- competÃªnciamov: long (nullable = true)\n",
            " |-- regiÃ£o: long (nullable = true)\n",
            " |-- uf: long (nullable = true)\n",
            " |-- municÃ­pio: long (nullable = true)\n",
            " |-- seÃ§Ã£o: string (nullable = true)\n",
            " |-- subclasse: long (nullable = true)\n",
            " |-- saldomovimentaÃ§Ã£o: long (nullable = true)\n",
            " |-- cbo2002ocupaÃ§Ã£o: long (nullable = true)\n",
            " |-- categoria: long (nullable = true)\n",
            " |-- graudeinstruÃ§Ã£o: long (nullable = true)\n",
            " |-- idade: long (nullable = true)\n",
            " |-- horascontratuais: string (nullable = true)\n",
            " |-- raÃ§acor: long (nullable = true)\n",
            " |-- sexo: long (nullable = true)\n",
            " |-- tipoempregador: long (nullable = true)\n",
            " |-- tipoestabelecimento: long (nullable = true)\n",
            " |-- tipomovimentaÃ§Ã£o: long (nullable = true)\n",
            " |-- tipodedeficiÃªncia: long (nullable = true)\n",
            " |-- indtrabintermitente: long (nullable = true)\n",
            " |-- indtrabparcial: long (nullable = true)\n",
            " |-- salÃ¡rio: string (nullable = true)\n",
            " |-- tamestabjan: long (nullable = true)\n",
            " |-- indicadoraprendiz: long (nullable = true)\n",
            " |-- origemdainformaÃ§Ã£o: long (nullable = true)\n",
            " |-- competÃªnciadec: long (nullable = true)\n",
            " |-- indicadordeforadoprazo: long (nullable = true)\n",
            " |-- unidadesalÃ¡riocÃ³digo: long (nullable = true)\n",
            " |-- valorsalÃ¡riofixo: string (nullable = true)\n",
            "\n"
          ]
        }
      ]
    },
    {
      "cell_type": "code",
      "source": [
        "# ========================================\n",
        "# 3. Transformação\n",
        "# ========================================\n",
        "\n",
        "# ---- Ajuste dos nomes das colunas\n",
        "rename_map = {\n",
        "    \"competÃªnciamov\": \"competenciamov\",\n",
        "    \"competÃªnciadec\": \"competenciadec\",\n",
        "    \"competÃªnciaexc\": \"competenciaexc\",\n",
        "    \"regiÃ£o\": \"regiao\",\n",
        "    \"municÃ­pio\": \"municipio\",\n",
        "    \"seÃ§Ã£o\": \"secao\",\n",
        "    \"saldomovimentaÃ§Ã£o\": \"saldomovimentacao\",\n",
        "    \"cbo2002ocupaÃ§Ã£o\": \"cbo2002ocupacao\",\n",
        "    \"graudeinstruÃ§Ã£o\": \"graudeinstrucao\",\n",
        "    \"raÃ§acor\": \"racacor\",\n",
        "    \"salÃ¡rio\": \"salario\",\n",
        "    \"tipomovimentaÃ§Ã£o\": \"tipomovimentacao\",\n",
        "    \"tipodedeficiÃªncia\": \"tipodeficiencia\",\n",
        "    \"unidadesalÃ¡riocÃ³digo\": \"unidadesalariocodigo\",\n",
        "    \"valorsalÃ¡riofixo\": \"valorsalariofixo\",\n",
        "    \"indicadordeexclusÃ£o\": \"indicadordeexclusao\"\n",
        "}\n",
        "\n",
        "# ---- Lê e adiciona flag de origem\n",
        "def read_caged(path, origem):\n",
        "    return (spark.read.parquet(path)\n",
        "            .withColumn(\"origem_declaracao\", lit(origem)))\n",
        "\n",
        "\n",
        "for ano in anos:\n",
        "    print(f\"\\n==== PROCESSANDO ANO {ano} ====\")\n",
        "\n",
        "    path_mov = f\"gs://bucket_caged/caged/{ano}/MOV/{ano}MOV.parquet\"\n",
        "    path_for = f\"gs://bucket_caged/caged/{ano}/FOR/{ano}FOR.parquet\"\n",
        "    path_exc = f\"gs://bucket_caged/caged/{ano}/EXC/{ano}EXC.parquet\"\n",
        "\n",
        "    df_mov = read_caged(path_mov, \"PRAZO\")\n",
        "    print(f\"[INFO] Leitura Movimentação no prazo - Ano {ano}\")\n",
        "\n",
        "    df_for = read_caged(path_for, \"FORA_PRAZO\")\n",
        "    print(f\"[INFO] Leitura Movimentação fora do prazo - Ano {ano}\")\n",
        "\n",
        "    df_exc = read_caged(path_exc, \"EXCLUSAO\")\n",
        "    print(f\"[INFO] Leitura Exclusão - Ano {ano}\")\n",
        "\n",
        "    # MOV + FOR + EXC\n",
        "    df = df_mov.unionByName(df_for, allowMissingColumns=True).unionByName(df_exc, allowMissingColumns=True)\n",
        "    print(f\"[INFO] União das origens OK!\")\n",
        "\n",
        "    # Renomeia colunas\n",
        "    for old, new in rename_map.items():\n",
        "        if old in df.columns:\n",
        "            df = df.withColumnRenamed(old, new)\n",
        "            print(\"[INFO] Colunas renomeadas!\")\n",
        "\n",
        "    # Criação de outras variáveis\n",
        "    # -- Anos\n",
        "    df = df.withColumn(\"ano_mov\", substring(\"competenciamov\", 1, 4))\n",
        "    print(\"[INFO] Variavel ano_mov criada.\")\n",
        "\n",
        "    df = df.withColumn(\"ano_dec\", substring(\"competenciadec\", 1, 4))\n",
        "    print(\"[INFO] Variavel ano_dec criada.\")\n",
        "\n",
        "\n",
        "    # -- Natureza do evento\n",
        "    df = df.withColumn(\n",
        "        \"natureza_evento\",\n",
        "        when(col(\"saldomovimentacao\") == 1, \"admissao\")\n",
        "        .when(col(\"saldomovimentacao\") == -1, \"desligamento\")\n",
        "        .otherwise(\"desconhecido\")\n",
        "    )\n",
        "    print(\"[INFO] Variavel natureza_evento criada.\")\n",
        "\n",
        "    # -- Impacto da exclusão no saldo\n",
        "    df = df.withColumn(\n",
        "        \"impacto_saldo\",\n",
        "        when(col(\"origem_declaracao\") == \"EXCLUSAO\", -col(\"saldomovimentacao\"))\n",
        "        .otherwise(col(\"saldomovimentacao\"))\n",
        "    )\n",
        "    print(\"[INFO] Variavel impacto_saldo criada.\")\n",
        "\n",
        "    # -- Faixa etária\n",
        "    df = df.withColumn(\n",
        "        \"faixa_etaria\",\n",
        "        when(col(\"idade\") <= 18, \"Ate 18\")\n",
        "        .when((col(\"idade\") >= 19) & (col(\"idade\") <= 24), \"19-24\")\n",
        "        .when((col(\"idade\") >= 25) & (col(\"idade\") <= 34), \"25-34\")\n",
        "        .when((col(\"idade\") >= 35) & (col(\"idade\") <= 44), \"35-44\")\n",
        "        .when((col(\"idade\") >= 45) & (col(\"idade\") <= 59), \"45-59\")\n",
        "        .when(col(\"idade\") >= 60, \"60+\")\n",
        "        .otherwise(\"Desconhecido\")\n",
        "    )\n",
        "    print(\"[INFO] Variavel faixa_etaria criada.\")\n",
        "\n",
        "    # Append no bucket\n",
        "    df.write.mode(\"append\") \\\n",
        "        .partitionBy(\"ano_dec\", \"competenciadec\", \"origem_declaracao\") \\\n",
        "        .parquet(\"gs://bucket_caged/caged_unificado/\")\n",
        "\n",
        "    print(\"[INFO] Append .parquet gs://bucket_caged/caged_unificado/ OK!\")\n",
        "\n",
        "print(\".    Pipeline concluída!\")\n"
      ],
      "metadata": {
        "colab": {
          "base_uri": "https://localhost:8080/"
        },
        "id": "f9XCz8_pinqZ",
        "outputId": "d0d3a0fe-b105-46d2-d380-421137421395"
      },
      "execution_count": 23,
      "outputs": [
        {
          "output_type": "stream",
          "name": "stdout",
          "text": [
            "\n",
            "==== PROCESSANDO ANO 2020 ====\n",
            "[INFO] Leitura Movimentação no prazo - Ano 2020\n",
            "[INFO] Leitura Movimentação fora do prazo - Ano 2020\n",
            "[INFO] Leitura Exclusão - Ano 2020\n",
            "[INFO] União das origens OK!\n",
            "[INFO] Colunas renomeadas!\n",
            "[INFO] Colunas renomeadas!\n",
            "[INFO] Colunas renomeadas!\n",
            "[INFO] Colunas renomeadas!\n",
            "[INFO] Colunas renomeadas!\n",
            "[INFO] Colunas renomeadas!\n",
            "[INFO] Colunas renomeadas!\n",
            "[INFO] Colunas renomeadas!\n",
            "[INFO] Colunas renomeadas!\n",
            "[INFO] Colunas renomeadas!\n",
            "[INFO] Colunas renomeadas!\n",
            "[INFO] Colunas renomeadas!\n",
            "[INFO] Colunas renomeadas!\n",
            "[INFO] Colunas renomeadas!\n",
            "[INFO] Colunas renomeadas!\n",
            "[INFO] Colunas renomeadas!\n",
            "[INFO] Variavel ano_mov criada.\n",
            "[INFO] Variavel ano_dec criada.\n",
            "[INFO] Variavel natureza_evento criada.\n",
            "[INFO] Variavel impacto_saldo criada.\n",
            "[INFO] Variavel faixa_etaria criada.\n",
            "[INFO] Append .parquet gs://bucket_caged/caged_unificado/ OK!\n",
            "\n",
            "==== PROCESSANDO ANO 2021 ====\n",
            "[INFO] Leitura Movimentação no prazo - Ano 2021\n",
            "[INFO] Leitura Movimentação fora do prazo - Ano 2021\n",
            "[INFO] Leitura Exclusão - Ano 2021\n",
            "[INFO] União das origens OK!\n",
            "[INFO] Colunas renomeadas!\n",
            "[INFO] Colunas renomeadas!\n",
            "[INFO] Colunas renomeadas!\n",
            "[INFO] Colunas renomeadas!\n",
            "[INFO] Colunas renomeadas!\n",
            "[INFO] Colunas renomeadas!\n",
            "[INFO] Colunas renomeadas!\n",
            "[INFO] Colunas renomeadas!\n",
            "[INFO] Colunas renomeadas!\n",
            "[INFO] Colunas renomeadas!\n",
            "[INFO] Colunas renomeadas!\n",
            "[INFO] Colunas renomeadas!\n",
            "[INFO] Colunas renomeadas!\n",
            "[INFO] Colunas renomeadas!\n",
            "[INFO] Colunas renomeadas!\n",
            "[INFO] Colunas renomeadas!\n",
            "[INFO] Variavel ano_mov criada.\n",
            "[INFO] Variavel ano_dec criada.\n",
            "[INFO] Variavel natureza_evento criada.\n",
            "[INFO] Variavel impacto_saldo criada.\n",
            "[INFO] Variavel faixa_etaria criada.\n",
            "[INFO] Append .parquet gs://bucket_caged/caged_unificado/ OK!\n",
            "\n",
            "==== PROCESSANDO ANO 2022 ====\n",
            "[INFO] Leitura Movimentação no prazo - Ano 2022\n",
            "[INFO] Leitura Movimentação fora do prazo - Ano 2022\n",
            "[INFO] Leitura Exclusão - Ano 2022\n",
            "[INFO] União das origens OK!\n",
            "[INFO] Colunas renomeadas!\n",
            "[INFO] Colunas renomeadas!\n",
            "[INFO] Colunas renomeadas!\n",
            "[INFO] Colunas renomeadas!\n",
            "[INFO] Colunas renomeadas!\n",
            "[INFO] Colunas renomeadas!\n",
            "[INFO] Colunas renomeadas!\n",
            "[INFO] Colunas renomeadas!\n",
            "[INFO] Colunas renomeadas!\n",
            "[INFO] Colunas renomeadas!\n",
            "[INFO] Colunas renomeadas!\n",
            "[INFO] Colunas renomeadas!\n",
            "[INFO] Colunas renomeadas!\n",
            "[INFO] Colunas renomeadas!\n",
            "[INFO] Colunas renomeadas!\n",
            "[INFO] Colunas renomeadas!\n",
            "[INFO] Variavel ano_mov criada.\n",
            "[INFO] Variavel ano_dec criada.\n",
            "[INFO] Variavel natureza_evento criada.\n",
            "[INFO] Variavel impacto_saldo criada.\n",
            "[INFO] Variavel faixa_etaria criada.\n",
            "[INFO] Append .parquet gs://bucket_caged/caged_unificado/ OK!\n",
            "\n",
            "==== PROCESSANDO ANO 2023 ====\n",
            "[INFO] Leitura Movimentação no prazo - Ano 2023\n",
            "[INFO] Leitura Movimentação fora do prazo - Ano 2023\n",
            "[INFO] Leitura Exclusão - Ano 2023\n",
            "[INFO] União das origens OK!\n",
            "[INFO] Colunas renomeadas!\n",
            "[INFO] Colunas renomeadas!\n",
            "[INFO] Colunas renomeadas!\n",
            "[INFO] Colunas renomeadas!\n",
            "[INFO] Colunas renomeadas!\n",
            "[INFO] Colunas renomeadas!\n",
            "[INFO] Colunas renomeadas!\n",
            "[INFO] Colunas renomeadas!\n",
            "[INFO] Colunas renomeadas!\n",
            "[INFO] Colunas renomeadas!\n",
            "[INFO] Colunas renomeadas!\n",
            "[INFO] Colunas renomeadas!\n",
            "[INFO] Colunas renomeadas!\n",
            "[INFO] Colunas renomeadas!\n",
            "[INFO] Colunas renomeadas!\n",
            "[INFO] Colunas renomeadas!\n",
            "[INFO] Variavel ano_mov criada.\n",
            "[INFO] Variavel ano_dec criada.\n",
            "[INFO] Variavel natureza_evento criada.\n",
            "[INFO] Variavel impacto_saldo criada.\n",
            "[INFO] Variavel faixa_etaria criada.\n",
            "[INFO] Append .parquet gs://bucket_caged/caged_unificado/ OK!\n",
            "\n",
            "==== PROCESSANDO ANO 2024 ====\n",
            "[INFO] Leitura Movimentação no prazo - Ano 2024\n",
            "[INFO] Leitura Movimentação fora do prazo - Ano 2024\n",
            "[INFO] Leitura Exclusão - Ano 2024\n",
            "[INFO] União das origens OK!\n",
            "[INFO] Colunas renomeadas!\n",
            "[INFO] Colunas renomeadas!\n",
            "[INFO] Colunas renomeadas!\n",
            "[INFO] Colunas renomeadas!\n",
            "[INFO] Colunas renomeadas!\n",
            "[INFO] Colunas renomeadas!\n",
            "[INFO] Colunas renomeadas!\n",
            "[INFO] Colunas renomeadas!\n",
            "[INFO] Colunas renomeadas!\n",
            "[INFO] Colunas renomeadas!\n",
            "[INFO] Colunas renomeadas!\n",
            "[INFO] Colunas renomeadas!\n",
            "[INFO] Colunas renomeadas!\n",
            "[INFO] Colunas renomeadas!\n",
            "[INFO] Colunas renomeadas!\n",
            "[INFO] Colunas renomeadas!\n",
            "[INFO] Variavel ano_mov criada.\n",
            "[INFO] Variavel ano_dec criada.\n",
            "[INFO] Variavel natureza_evento criada.\n",
            "[INFO] Variavel impacto_saldo criada.\n",
            "[INFO] Variavel faixa_etaria criada.\n",
            "[INFO] Append .parquet gs://bucket_caged/caged_unificado/ OK!\n",
            "\n",
            "==== PROCESSANDO ANO 2025 ====\n",
            "[INFO] Leitura Movimentação no prazo - Ano 2025\n",
            "[INFO] Leitura Movimentação fora do prazo - Ano 2025\n",
            "[INFO] Leitura Exclusão - Ano 2025\n",
            "[INFO] União das origens OK!\n",
            "[INFO] Colunas renomeadas!\n",
            "[INFO] Colunas renomeadas!\n",
            "[INFO] Colunas renomeadas!\n",
            "[INFO] Colunas renomeadas!\n",
            "[INFO] Colunas renomeadas!\n",
            "[INFO] Colunas renomeadas!\n",
            "[INFO] Colunas renomeadas!\n",
            "[INFO] Colunas renomeadas!\n",
            "[INFO] Colunas renomeadas!\n",
            "[INFO] Colunas renomeadas!\n",
            "[INFO] Colunas renomeadas!\n",
            "[INFO] Colunas renomeadas!\n",
            "[INFO] Colunas renomeadas!\n",
            "[INFO] Colunas renomeadas!\n",
            "[INFO] Colunas renomeadas!\n",
            "[INFO] Colunas renomeadas!\n",
            "[INFO] Variavel ano_mov criada.\n",
            "[INFO] Variavel ano_dec criada.\n",
            "[INFO] Variavel natureza_evento criada.\n",
            "[INFO] Variavel impacto_saldo criada.\n",
            "[INFO] Variavel faixa_etaria criada.\n",
            "[INFO] Append .parquet gs://bucket_caged/caged_unificado/ OK!\n",
            ".    Pipeline concluída!\n"
          ]
        }
      ]
    },
    {
      "cell_type": "code",
      "source": [],
      "metadata": {
        "id": "8qvK9Kbp5EjL"
      },
      "execution_count": null,
      "outputs": []
    }
  ]
}